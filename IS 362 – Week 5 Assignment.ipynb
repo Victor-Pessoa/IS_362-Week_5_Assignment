{
 "cells": [
  {
   "cell_type": "markdown",
   "id": "2fe586f3",
   "metadata": {},
   "source": [
    "# IS 362 – Week 5 Assignment"
   ]
  },
  {
   "cell_type": "code",
   "execution_count": 2,
   "id": "ea254c75",
   "metadata": {},
   "outputs": [],
   "source": [
    "import pandas as pd\n",
    "\n",
    "airports = pd.read_csv('C:\\\\Users\\Victor Pessoa\\\\Desktop\\\\IS 362 – Week 5 Assignment\\\\airports.csv')\n",
    "weather = pd.read_csv('C:\\\\Users\\\\Victor Pessoa\\\\Desktop\\\\IS 362 – Week 5 Assignment\\\\weather.csv')\n"
   ]
  },
  {
   "cell_type": "markdown",
   "id": "00e9fe51",
   "metadata": {},
   "source": [
    "## Northernmost Airport"
   ]
  },
  {
   "cell_type": "code",
   "execution_count": 4,
   "id": "e6a1bf4f",
   "metadata": {},
   "outputs": [
    {
     "name": "stdout",
     "output_type": "stream",
     "text": [
      "The top 5 northernmost airports in the United States are:\n",
      "                                           name        lat\n",
      "417                     Dillant Hopkins Airport  72.270833\n",
      "230                  Wiley Post Will Rogers Mem  71.285446\n",
      "110                          Wainwright Airport  70.638056\n",
      "708                               Wainwright As  70.613378\n",
      "152  Atqasuk Edward Burnell Sr Memorial Airport  70.467300\n"
     ]
    }
   ],
   "source": [
    "northernmost_airports = airports.sort_values(by='lat', ascending=False).head(5)\n",
    "\n",
    "print(\"The top 5 northernmost airports in the United States are:\")\n",
    "print(northernmost_airports[['name', 'lat']])"
   ]
  },
  {
   "cell_type": "markdown",
   "id": "4908a0f0",
   "metadata": {},
   "source": [
    "### Given that according to google maps the corrected latitude for Dillant Hopkins Airport is approximately 42.9142.91 and the longitude is approximately −72.27, this suggests that the original latitude value in the dataset is likely incorrect and should be validated."
   ]
  },
  {
   "cell_type": "code",
   "execution_count": 7,
   "id": "1d069fd4",
   "metadata": {},
   "outputs": [
    {
     "name": "stdout",
     "output_type": "stream",
     "text": [
      "The top 5 northernmost airports in the United States are (corrected):\n",
      "                                            name        lat\n",
      "230                   Wiley Post Will Rogers Mem  71.285446\n",
      "110                           Wainwright Airport  70.638056\n",
      "708                                Wainwright As  70.613378\n",
      "152   Atqasuk Edward Burnell Sr Memorial Airport  70.467300\n",
      "1363                        Ugnu-Kuparuk Airport  70.330833\n"
     ]
    }
   ],
   "source": [
    "airports.loc[airports['name'] == 'Dillant Hopkins Airport', 'lat'] = 42.90652313880002\n",
    "\n",
    "northernmost_airports_corrected = airports.sort_values(by='lat', ascending=False).head(5)\n",
    "\n",
    "print(\"The top 5 northernmost airports in the United States are (corrected):\")\n",
    "print(northernmost_airports_corrected[['name', 'lat']])\n"
   ]
  },
  {
   "cell_type": "markdown",
   "id": "f98bfe3e",
   "metadata": {},
   "source": [
    "## Easternmost Airport"
   ]
  },
  {
   "cell_type": "code",
   "execution_count": 5,
   "id": "bd9677e5",
   "metadata": {},
   "outputs": [
    {
     "name": "stdout",
     "output_type": "stream",
     "text": [
      "The top 5 easternmost airports in the United States are:\n",
      "                               name         lon\n",
      "1290                   Eareckson As  174.113620\n",
      "942                Montgomery Field  117.759000\n",
      "396   Deer Valley Municipal Airport  112.457000\n",
      "417         Dillant Hopkins Airport   42.898333\n",
      "444      Eastport Municipal Airport  -67.012694\n"
     ]
    }
   ],
   "source": [
    "easternmost_airports = airports.sort_values(by='lon', ascending=False).head(5)\n",
    "\n",
    "print(\"The top 5 easternmost airports in the United States are:\")\n",
    "print(easternmost_airports[['name', 'lon']])"
   ]
  },
  {
   "cell_type": "markdown",
   "id": "e6e71be8",
   "metadata": {},
   "source": [
    "### According to Google Maps I got:\n",
    "##### 54.21888484099894, 174.06567797595457 for Eareckson As,\n",
    "##### 32.826042630263515, -117.1016092873497 for Montgomery Field,\n",
    "##### 33.97864672701835, -118.42136444041208 for Deer Valley Municipal Airport,\n",
    "##### 42.90664207509538, -72.27254825923286 for Dillant Hopkins Airport,\n",
    "##### and 45.071980546937176, -66.91126034461944 for Eastport Municipal Airport"
   ]
  },
  {
   "cell_type": "code",
   "execution_count": 13,
   "id": "356464f1",
   "metadata": {},
   "outputs": [
    {
     "name": "stdout",
     "output_type": "stream",
     "text": [
      "The top 5 easternmost airport in the United States are (corrected):\n",
      "                                     name         lon\n",
      "1290                         Eareckson As  174.113620\n",
      "444            Eastport Municipal Airport  -67.012694\n",
      "624                          Houlton Intl  -67.792056\n",
      "259                          Caribou Muni  -68.017917\n",
      "1101  Northern Maine Rgnl At Presque Isle  -68.044797\n"
     ]
    }
   ],
   "source": [
    "airports.loc[airports['name'] == 'Montgomery Field', 'lon'] = -117.1016092873497\n",
    "airports.loc[airports['name'] == 'Deer Valley Municipal Airport', 'lon'] = -118.42136444041208\n",
    "airports.loc[airports['name'] == 'Dillant Hopkins Airport', 'lon'] = -72.27254825923286\n",
    "\n",
    "easternmost_airport_corrected = airports.sort_values(by='lon', ascending=False).head(5)\n",
    "\n",
    "print(\"The top 5 easternmost airport in the United States are (corrected):\")\n",
    "print(easternmost_airport_corrected[['name', 'lon']])"
   ]
  },
  {
   "cell_type": "markdown",
   "id": "4c7910cd",
   "metadata": {},
   "source": [
    "## Windiest Weather on February 12th, 2013"
   ]
  },
  {
   "cell_type": "code",
   "execution_count": 12,
   "id": "bed09a48",
   "metadata": {},
   "outputs": [
    {
     "name": "stdout",
     "output_type": "stream",
     "text": [
      "The New York area airport with the windiest weather on February 12th, 2013 is:\n",
      "      origin  wind_speed\n",
      "1009     EWR  1048.36058\n",
      "18417    LGA    23.01560\n",
      "1018     EWR    21.86482\n"
     ]
    }
   ],
   "source": [
    "windiest_weather = weather[\n",
    "    (weather['year'] == 2013) & \n",
    "    (weather['month'] == 2) & \n",
    "    (weather['day'] == 12)\n",
    "].sort_values(by='wind_speed', ascending=False).head(3)\n",
    "\n",
    "print(\"The New York area airport with the windiest weather on February 12th, 2013 is:\")\n",
    "print(windiest_weather[['origin', 'wind_speed']])\n"
   ]
  },
  {
   "cell_type": "markdown",
   "id": "95167c59",
   "metadata": {},
   "source": [
    "### A wind speed of 1048.36058 seems extremely high and is likely an error in the data. The actual The New York area airport with the windiest weather on February 12th, 2013 would be LGA with wind speed of 23.01560."
   ]
  },
  {
   "cell_type": "markdown",
   "id": "f754d353",
   "metadata": {},
   "source": [
    "### Conclusion\n",
    "\n",
    "In this analysis, we aimed to identify the northernmost, easternmost airports in the United States and the New York area airport with the windiest weather on February 12th, 2013.\n",
    "\n",
    "- **Northernmost Airport:** The initial analysis identified Dillant Hopkins Airport as the northernmost airport, but this was found to be incorrect. After validating and correcting the data, Wiley Post Will Rogers Mem emerged as the northernmost airport with a latitude of 71.285446.\n",
    "\n",
    "- **Easternmost Airport:** The initial analysis had inaccuracies due to positive longitude values. After corrections, Eareckson As emerged as the easternmost, considering U.S. territories, with a longitude of 174.06567797595457. However, within the contiguous United States, Eastport Municipal Airport is the easternmost.\n",
    "\n",
    "- **Windiest Weather on February 12th, 2013:** The initial analysis revealed an outlier with an extremely high wind speed at EWR. After careful consideration, this value was deemed incorrect, and LGA was identified as having the windiest weather with a wind speed of 23.01560.\n",
    "\n",
    "The analysis underscores the critical importance of data validation and the handling of outliers in deriving accurate insights from any data-driven analysis. The corrected data provided more plausible results, aligned with external validations, leading to more reliable conclusions.\n",
    "\n"
   ]
  },
  {
   "cell_type": "code",
   "execution_count": null,
   "id": "c25398bf",
   "metadata": {},
   "outputs": [],
   "source": []
  }
 ],
 "metadata": {
  "kernelspec": {
   "display_name": "Python 3 (ipykernel)",
   "language": "python",
   "name": "python3"
  },
  "language_info": {
   "codemirror_mode": {
    "name": "ipython",
    "version": 3
   },
   "file_extension": ".py",
   "mimetype": "text/x-python",
   "name": "python",
   "nbconvert_exporter": "python",
   "pygments_lexer": "ipython3",
   "version": "3.9.13"
  }
 },
 "nbformat": 4,
 "nbformat_minor": 5
}
